{
  "nbformat": 4,
  "nbformat_minor": 0,
  "metadata": {
    "colab": {
      "provenance": []
    },
    "kernelspec": {
      "name": "python3",
      "display_name": "Python 3"
    },
    "language_info": {
      "name": "python"
    }
  },
  "cells": [
    {
      "cell_type": "markdown",
      "source": [
        "![Caleta.png](data:image/png;base64,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)"
      ],
      "metadata": {
        "id": "lrmNOl9c8-5k"
      }
    },
    {
      "cell_type": "markdown",
      "source": [
        "> **Recruitment test**\n",
        "\n",
        " **Job position: Junior Data Engineer**"
      ],
      "metadata": {
        "id": "h7sR_wxx9Cki"
      }
    },
    {
      "cell_type": "markdown",
      "source": [
        "## 1 \n",
        "Write a SQL query to find the average GGR (Gross Game Revenue) from clients in the \"clients\" table, grouped by their operators. \n",
        "\n",
        "The \"clients\" table has the following columns:\n",
        "\n",
        "* id (integer, primary key)\n",
        "* name (string)\n",
        "* operator (string)\n",
        "* total_bet (float)\n",
        "* total_won (float)"
      ],
      "metadata": {
        "id": "EsCT0M9J9ZKU"
      }
    },
    {
      "cell_type": "markdown",
      "source": [
        "### Developed query"
      ],
      "metadata": {
        "id": "bOUBwgnNC1hJ"
      }
    },
    {
      "cell_type": "markdown",
      "source": [
        "```sql\n",
        "SELECT\n",
        "\tc1.operator AS operator,\n",
        "\tSUM(COALESCE(c1.total_bet, 0)) - SUM(COALESCE(c1.total_won, 0)) AS ggr\n",
        "FROM\n",
        "\tclients c1\n",
        "GROUP BY\n",
        "\tc1.operator;\n",
        "```"
      ],
      "metadata": {
        "id": "heY9iSQF92ok"
      }
    },
    {
      "cell_type": "markdown",
      "source": [
        "> *The COALESCE function was used to avoid doing operations with null values causing loss of information.*"
      ],
      "metadata": {
        "id": "RfyuNNo3Lwgu"
      }
    },
    {
      "cell_type": "markdown",
      "source": [
        "### Tests"
      ],
      "metadata": {
        "id": "9DBwkuJibvNL"
      }
    },
    {
      "cell_type": "code",
      "source": [
        "import sqlite3\n",
        "\n",
        "connection = sqlite3.connect('database')\n",
        "cursor = connection.cursor()"
      ],
      "metadata": {
        "id": "Ido6e2nsbxC5"
      },
      "execution_count": 1,
      "outputs": []
    },
    {
      "cell_type": "code",
      "source": [
        "# create table\n",
        "cursor.execute(\n",
        "  'CREATE TABLE clients (id INTEGER PRIMARY KEY, name TEXT, operator TEXT, total_bet REAL, total_won REAL)'\n",
        ")\n",
        "connection.commit()"
      ],
      "metadata": {
        "id": "ykLeMMjNcJjU"
      },
      "execution_count": 2,
      "outputs": []
    },
    {
      "cell_type": "code",
      "source": [
        "# insert values\n",
        "\n",
        "records = [(1, 'Bob', 'A1', 100, 20), \n",
        "           (2, 'Jon', 'A1', 150, 50), \n",
        "           (3, 'Bob', 'A2', 50, 10), \n",
        "           (4, 'Jon', 'A2', 200, 50)\n",
        "          ]\n",
        "\n",
        "cursor.executemany('INSERT INTO clients VALUES (?, ?, ?, ?, ?);', records)\n",
        "\n",
        "connection.commit()"
      ],
      "metadata": {
        "id": "4y2m9vEFd8Jl"
      },
      "execution_count": 3,
      "outputs": []
    },
    {
      "cell_type": "code",
      "source": [
        "query_result = cursor.execute(\n",
        "  '''\n",
        "    SELECT\n",
        "      *\n",
        "    FROM\n",
        "      clients;\n",
        "  '''\n",
        ").fetchall()\n",
        "\n",
        "for row in query_result:\n",
        "\tprint(row)\n",
        " \n",
        "connection.commit()"
      ],
      "metadata": {
        "colab": {
          "base_uri": "https://localhost:8080/"
        },
        "id": "wx8NvhOQj6cG",
        "outputId": "25a4d642-b401-4d61-ae99-3849c6717fb7"
      },
      "execution_count": 4,
      "outputs": [
        {
          "output_type": "stream",
          "name": "stdout",
          "text": [
            "(1, 'Bob', 'A1', 100.0, 20.0)\n",
            "(2, 'Jon', 'A1', 150.0, 50.0)\n",
            "(3, 'Bob', 'A2', 50.0, 10.0)\n",
            "(4, 'Jon', 'A2', 200.0, 50.0)\n"
          ]
        }
      ]
    },
    {
      "cell_type": "code",
      "source": [
        "query_result = cursor.execute(\n",
        "  '''\n",
        "    SELECT\n",
        "      c1.operator AS operator,\n",
        "      SUM(COALESCE(c1.total_bet, 0)) - SUM(COALESCE(c1.total_won, 0)) AS ggr\n",
        "    FROM\n",
        "      clients c1\n",
        "    GROUP BY\n",
        "      c1.operator;\n",
        "  '''\n",
        ").fetchall()"
      ],
      "metadata": {
        "id": "FMTXRmOxgL_8"
      },
      "execution_count": 5,
      "outputs": []
    },
    {
      "cell_type": "code",
      "source": [
        "# Final result\n",
        "for row in query_result:\n",
        "\tprint(row)\n",
        " \n",
        "connection.commit()"
      ],
      "metadata": {
        "colab": {
          "base_uri": "https://localhost:8080/"
        },
        "id": "DE4yRKvviG0D",
        "outputId": "bf1ef59a-79c3-4337-fb05-db03537990a0"
      },
      "execution_count": 6,
      "outputs": [
        {
          "output_type": "stream",
          "name": "stdout",
          "text": [
            "('A1', 180.0)\n",
            "('A2', 190.0)\n"
          ]
        }
      ]
    },
    {
      "cell_type": "markdown",
      "source": [
        "## 2\n",
        "Given a Pandas DataFrame “df” representing game analytics data with columns “user_id”, “game_id”, “bet”, “won” and “timestamp”.\n",
        "\n",
        "Write a Python function named “aggregate_game_data” that takes in the “df”\n",
        "DataFrame and an integer “n” and returns a dictionary with the following structure:\n",
        "\n",
        "```json\n",
        "{\n",
        "  \"G1\": {\n",
        "  \"max_bet\": 100,\n",
        "  \"avg_bet\": 75,\n",
        "  \"top_n_user_ids\": [\"A1\", \"A5\", \"A3\"],\n",
        "},\n",
        "  \"G2\": {\n",
        "  \"max_bet\": 200,\n",
        "  \"avg_bet\": 150,\n",
        "  \"top_n_user_ids\": [\"A2\", \"A4\", \"A6\"],\n",
        "},\n",
        "...\n",
        "}\n",
        "```\n",
        "\n",
        "where the keys are the unique “game_ids”, and the values are dictionaries containing the following data:\n",
        "\n",
        "* “max_bet”: the maximum bet amount of all users in the game_id\n",
        "* “avg_bet”: the average bet amount of all users in the game_id rounded down to the nearest integer\n",
        "* “top_n_user_ids”: a list of length n containing the user_id of the top n users with the highest bet amounts for each game_id, sorted in descending order by bet amount.\n",
        "\n",
        "If “n” is greater than the number of users for a particular “game_id”, return all “user_ids” for that “game_id”."
      ],
      "metadata": {
        "id": "rAlWkHnd-DKS"
      }
    },
    {
      "cell_type": "markdown",
      "source": [
        "**Created a dataframe to better visualize the problem.**"
      ],
      "metadata": {
        "id": "pHCL0ThwLgKw"
      }
    },
    {
      "cell_type": "code",
      "source": [
        "import pandas as pd\n",
        "\n",
        "aux_dict = {\n",
        "    'user_id': ['A1', 'A2', 'A3', 'A1', 'A2', 'A3'],\n",
        "    'game_id': ['G1', 'G2', 'G3', 'G2', 'G3', 'G1'],\n",
        "    'bet': [100, 150, 50, 200, 80, 120],\n",
        "    'won': [20, 30, 5, 50, 10, 15],\n",
        "    'timestamp': ['2023/01/20', '2023/01/19', '2023/01/15', '2023/01/25', '2023/01/21', '2023/01/18']\n",
        "}\n",
        "\n",
        "df = pd.DataFrame(data=aux_dict)"
      ],
      "metadata": {
        "id": "uvnycCUcgWZ2"
      },
      "execution_count": 7,
      "outputs": []
    },
    {
      "cell_type": "code",
      "source": [
        "df.head(6)"
      ],
      "metadata": {
        "colab": {
          "base_uri": "https://localhost:8080/",
          "height": 238
        },
        "id": "YLyCO9S6lBlH",
        "outputId": "04b4bb61-805c-45ac-e0cc-0c902c19949f"
      },
      "execution_count": 8,
      "outputs": [
        {
          "output_type": "execute_result",
          "data": {
            "text/plain": [
              "  user_id game_id  bet  won   timestamp\n",
              "0      A1      G1  100   20  2023/01/20\n",
              "1      A2      G2  150   30  2023/01/19\n",
              "2      A3      G3   50    5  2023/01/15\n",
              "3      A1      G2  200   50  2023/01/25\n",
              "4      A2      G3   80   10  2023/01/21\n",
              "5      A3      G1  120   15  2023/01/18"
            ],
            "text/html": [
              "\n",
              "  <div id=\"df-4387d46f-e0dd-4759-8974-4e3255faf1d9\">\n",
              "    <div class=\"colab-df-container\">\n",
              "      <div>\n",
              "<style scoped>\n",
              "    .dataframe tbody tr th:only-of-type {\n",
              "        vertical-align: middle;\n",
              "    }\n",
              "\n",
              "    .dataframe tbody tr th {\n",
              "        vertical-align: top;\n",
              "    }\n",
              "\n",
              "    .dataframe thead th {\n",
              "        text-align: right;\n",
              "    }\n",
              "</style>\n",
              "<table border=\"1\" class=\"dataframe\">\n",
              "  <thead>\n",
              "    <tr style=\"text-align: right;\">\n",
              "      <th></th>\n",
              "      <th>user_id</th>\n",
              "      <th>game_id</th>\n",
              "      <th>bet</th>\n",
              "      <th>won</th>\n",
              "      <th>timestamp</th>\n",
              "    </tr>\n",
              "  </thead>\n",
              "  <tbody>\n",
              "    <tr>\n",
              "      <th>0</th>\n",
              "      <td>A1</td>\n",
              "      <td>G1</td>\n",
              "      <td>100</td>\n",
              "      <td>20</td>\n",
              "      <td>2023/01/20</td>\n",
              "    </tr>\n",
              "    <tr>\n",
              "      <th>1</th>\n",
              "      <td>A2</td>\n",
              "      <td>G2</td>\n",
              "      <td>150</td>\n",
              "      <td>30</td>\n",
              "      <td>2023/01/19</td>\n",
              "    </tr>\n",
              "    <tr>\n",
              "      <th>2</th>\n",
              "      <td>A3</td>\n",
              "      <td>G3</td>\n",
              "      <td>50</td>\n",
              "      <td>5</td>\n",
              "      <td>2023/01/15</td>\n",
              "    </tr>\n",
              "    <tr>\n",
              "      <th>3</th>\n",
              "      <td>A1</td>\n",
              "      <td>G2</td>\n",
              "      <td>200</td>\n",
              "      <td>50</td>\n",
              "      <td>2023/01/25</td>\n",
              "    </tr>\n",
              "    <tr>\n",
              "      <th>4</th>\n",
              "      <td>A2</td>\n",
              "      <td>G3</td>\n",
              "      <td>80</td>\n",
              "      <td>10</td>\n",
              "      <td>2023/01/21</td>\n",
              "    </tr>\n",
              "    <tr>\n",
              "      <th>5</th>\n",
              "      <td>A3</td>\n",
              "      <td>G1</td>\n",
              "      <td>120</td>\n",
              "      <td>15</td>\n",
              "      <td>2023/01/18</td>\n",
              "    </tr>\n",
              "  </tbody>\n",
              "</table>\n",
              "</div>\n",
              "      <button class=\"colab-df-convert\" onclick=\"convertToInteractive('df-4387d46f-e0dd-4759-8974-4e3255faf1d9')\"\n",
              "              title=\"Convert this dataframe to an interactive table.\"\n",
              "              style=\"display:none;\">\n",
              "        \n",
              "  <svg xmlns=\"http://www.w3.org/2000/svg\" height=\"24px\"viewBox=\"0 0 24 24\"\n",
              "       width=\"24px\">\n",
              "    <path d=\"M0 0h24v24H0V0z\" fill=\"none\"/>\n",
              "    <path d=\"M18.56 5.44l.94 2.06.94-2.06 2.06-.94-2.06-.94-.94-2.06-.94 2.06-2.06.94zm-11 1L8.5 8.5l.94-2.06 2.06-.94-2.06-.94L8.5 2.5l-.94 2.06-2.06.94zm10 10l.94 2.06.94-2.06 2.06-.94-2.06-.94-.94-2.06-.94 2.06-2.06.94z\"/><path d=\"M17.41 7.96l-1.37-1.37c-.4-.4-.92-.59-1.43-.59-.52 0-1.04.2-1.43.59L10.3 9.45l-7.72 7.72c-.78.78-.78 2.05 0 2.83L4 21.41c.39.39.9.59 1.41.59.51 0 1.02-.2 1.41-.59l7.78-7.78 2.81-2.81c.8-.78.8-2.07 0-2.86zM5.41 20L4 18.59l7.72-7.72 1.47 1.35L5.41 20z\"/>\n",
              "  </svg>\n",
              "      </button>\n",
              "      \n",
              "  <style>\n",
              "    .colab-df-container {\n",
              "      display:flex;\n",
              "      flex-wrap:wrap;\n",
              "      gap: 12px;\n",
              "    }\n",
              "\n",
              "    .colab-df-convert {\n",
              "      background-color: #E8F0FE;\n",
              "      border: none;\n",
              "      border-radius: 50%;\n",
              "      cursor: pointer;\n",
              "      display: none;\n",
              "      fill: #1967D2;\n",
              "      height: 32px;\n",
              "      padding: 0 0 0 0;\n",
              "      width: 32px;\n",
              "    }\n",
              "\n",
              "    .colab-df-convert:hover {\n",
              "      background-color: #E2EBFA;\n",
              "      box-shadow: 0px 1px 2px rgba(60, 64, 67, 0.3), 0px 1px 3px 1px rgba(60, 64, 67, 0.15);\n",
              "      fill: #174EA6;\n",
              "    }\n",
              "\n",
              "    [theme=dark] .colab-df-convert {\n",
              "      background-color: #3B4455;\n",
              "      fill: #D2E3FC;\n",
              "    }\n",
              "\n",
              "    [theme=dark] .colab-df-convert:hover {\n",
              "      background-color: #434B5C;\n",
              "      box-shadow: 0px 1px 3px 1px rgba(0, 0, 0, 0.15);\n",
              "      filter: drop-shadow(0px 1px 2px rgba(0, 0, 0, 0.3));\n",
              "      fill: #FFFFFF;\n",
              "    }\n",
              "  </style>\n",
              "\n",
              "      <script>\n",
              "        const buttonEl =\n",
              "          document.querySelector('#df-4387d46f-e0dd-4759-8974-4e3255faf1d9 button.colab-df-convert');\n",
              "        buttonEl.style.display =\n",
              "          google.colab.kernel.accessAllowed ? 'block' : 'none';\n",
              "\n",
              "        async function convertToInteractive(key) {\n",
              "          const element = document.querySelector('#df-4387d46f-e0dd-4759-8974-4e3255faf1d9');\n",
              "          const dataTable =\n",
              "            await google.colab.kernel.invokeFunction('convertToInteractive',\n",
              "                                                     [key], {});\n",
              "          if (!dataTable) return;\n",
              "\n",
              "          const docLinkHtml = 'Like what you see? Visit the ' +\n",
              "            '<a target=\"_blank\" href=https://colab.research.google.com/notebooks/data_table.ipynb>data table notebook</a>'\n",
              "            + ' to learn more about interactive tables.';\n",
              "          element.innerHTML = '';\n",
              "          dataTable['output_type'] = 'display_data';\n",
              "          await google.colab.output.renderOutput(dataTable, element);\n",
              "          const docLink = document.createElement('div');\n",
              "          docLink.innerHTML = docLinkHtml;\n",
              "          element.appendChild(docLink);\n",
              "        }\n",
              "      </script>\n",
              "    </div>\n",
              "  </div>\n",
              "  "
            ]
          },
          "metadata": {},
          "execution_count": 8
        }
      ]
    },
    {
      "cell_type": "code",
      "source": [
        "# max_bet\n",
        "# df.groupby('game_id')['bet'].max()"
      ],
      "metadata": {
        "id": "R4KaXVp21UT_"
      },
      "execution_count": 9,
      "outputs": []
    },
    {
      "cell_type": "code",
      "source": [
        "# avg_bet\n",
        "# df.groupby('game_id')['bet'].mean().round()"
      ],
      "metadata": {
        "id": "uBV90Sl11XY-"
      },
      "execution_count": 10,
      "outputs": []
    },
    {
      "cell_type": "code",
      "source": [
        "# top_users\n",
        "# df.groupby(['game_id', 'user_id'])['bet'].max()"
      ],
      "metadata": {
        "id": "0jaHWHuFtewp"
      },
      "execution_count": 11,
      "outputs": []
    },
    {
      "cell_type": "markdown",
      "source": [],
      "metadata": {
        "id": "b7zNWaRU3INV"
      }
    },
    {
      "cell_type": "markdown",
      "source": [
        "### Function developed"
      ],
      "metadata": {
        "id": "VgAL-n-xDNMZ"
      }
    },
    {
      "cell_type": "code",
      "source": [
        "def aggregate_game_data(df: pd.DataFrame, n: int) :\n",
        "  return_dict = {}\n",
        "  max_bet_df = df.groupby('game_id')['bet'].max()\n",
        "  avg_bet_df = df.groupby('game_id')['bet'].mean().round()\n",
        "  top_users_df = df.groupby(['game_id', 'user_id'])['bet'].max()\n",
        "  for game in df['game_id']:\n",
        "    return_dict[game] = {\n",
        "        'max_bet': float(max_bet_df[game]),\n",
        "        'avg_bet': avg_bet_df[game],\n",
        "        'top_n_user_ids': list(top_users_df[game].nlargest(n).keys())\n",
        "    }\n",
        "  return return_dict"
      ],
      "metadata": {
        "id": "_h34E1n2fgL0"
      },
      "execution_count": 12,
      "outputs": []
    },
    {
      "cell_type": "code",
      "source": [
        "## to pretty print\n",
        "import json\n",
        "result = aggregate_game_data(df, 2)\n",
        "\n",
        "print(json.dumps(result, sort_keys=True, indent=2, default=str))"
      ],
      "metadata": {
        "colab": {
          "base_uri": "https://localhost:8080/"
        },
        "id": "uIjDdQJT7Y0j",
        "outputId": "4d8d6ee7-27cb-4163-b9e9-b60813769197"
      },
      "execution_count": 13,
      "outputs": [
        {
          "output_type": "stream",
          "name": "stdout",
          "text": [
            "{\n",
            "  \"G1\": {\n",
            "    \"avg_bet\": 110.0,\n",
            "    \"max_bet\": 120.0,\n",
            "    \"top_n_user_ids\": [\n",
            "      \"A3\",\n",
            "      \"A1\"\n",
            "    ]\n",
            "  },\n",
            "  \"G2\": {\n",
            "    \"avg_bet\": 175.0,\n",
            "    \"max_bet\": 200.0,\n",
            "    \"top_n_user_ids\": [\n",
            "      \"A1\",\n",
            "      \"A2\"\n",
            "    ]\n",
            "  },\n",
            "  \"G3\": {\n",
            "    \"avg_bet\": 65.0,\n",
            "    \"max_bet\": 80.0,\n",
            "    \"top_n_user_ids\": [\n",
            "      \"A2\",\n",
            "      \"A3\"\n",
            "    ]\n",
            "  }\n",
            "}\n"
          ]
        }
      ]
    },
    {
      "cell_type": "markdown",
      "source": [
        "### Tests"
      ],
      "metadata": {
        "id": "AxdMBhaUDfYf"
      }
    },
    {
      "cell_type": "code",
      "source": [
        "# test with value of n greater than the number of players\n",
        "assert result == aggregate_game_data(df, 3)\n",
        "print('Same result with value of n greater than the number of players')"
      ],
      "metadata": {
        "colab": {
          "base_uri": "https://localhost:8080/"
        },
        "id": "H6FoF4Pj8vVC",
        "outputId": "800afbf9-46f6-4e7d-df26-acf17835ee02"
      },
      "execution_count": 14,
      "outputs": [
        {
          "output_type": "stream",
          "name": "stdout",
          "text": [
            "Same result with value of n greater than the number of players\n"
          ]
        }
      ]
    },
    {
      "cell_type": "code",
      "source": [
        "\n",
        "# post-insertion update test\n",
        "aux_dict_2 = {\n",
        "    'user_id': 'A4',\n",
        "    'game_id': 'G1',\n",
        "    'bet': 300,\n",
        "    'won': 100,\n",
        "    'timestamp': '2023/01/26'\n",
        "}\n",
        "\n",
        "df2 = df.append(aux_dict_2, ignore_index=True)\n",
        "result2 = aggregate_game_data(df2, 2)\n",
        "\n",
        "assert result2['G1']['max_bet'] == 300\n",
        "assert result2['G1']['avg_bet'] == 173\n",
        "assert result2['G1']['top_n_user_ids'] == ['A4', 'A3']\n",
        "\n",
        "print(\"Values updated after insertion.\")"
      ],
      "metadata": {
        "colab": {
          "base_uri": "https://localhost:8080/"
        },
        "id": "rnpK53cm_lOm",
        "outputId": "a589de71-98c5-4392-c404-5fd7737e71a3"
      },
      "execution_count": 15,
      "outputs": [
        {
          "output_type": "stream",
          "name": "stdout",
          "text": [
            "Values updated after insertion.\n"
          ]
        }
      ]
    },
    {
      "cell_type": "markdown",
      "source": [
        "## 3 \n",
        "Given a table \"game_plays\" with the following columns:\n",
        "* round_id (primary key, integer)\n",
        "* player_id (integer)\n",
        "* game_id (integer)\n",
        "* play_date (date)\n",
        "* bet (float)\n",
        "\n",
        "and a table \"players\" with the following columns:\n",
        "* player_id (primary key, integer)\n",
        "* player_name (string)\n",
        "* registration_date (date)\n",
        "\n",
        "Write a SQL query that returns the top 10 players by bet (“bet”), ordered by “bet” in descending order, for game plays in the month of January 2022. The result should have the following columns:\n",
        "* player_name (string)\n",
        "* total_bet (float)"
      ],
      "metadata": {
        "id": "lgixDiFf_ARA"
      }
    },
    {
      "cell_type": "markdown",
      "source": [
        "### Developed query"
      ],
      "metadata": {
        "id": "jtrd8iPIbILS"
      }
    },
    {
      "cell_type": "markdown",
      "source": [
        "```sql\n",
        "SELECT\n",
        "\tp.player_name AS player_name,\n",
        "\tg.bet AS bet\n",
        "FROM\n",
        "\tgame_plays g\n",
        "JOIN players p ON\n",
        "\tg.player_id = p.id\n",
        "WHERE\n",
        "\tg.play_date BETWEEN '2023-01-01' AND '2023-01-31'\n",
        "ORDER BY\n",
        "\tg.bet DESC\n",
        "LIMIT 10;\n",
        "```"
      ],
      "metadata": {
        "id": "gymTLFcBbAnp"
      }
    },
    {
      "cell_type": "markdown",
      "source": [
        "### Tests"
      ],
      "metadata": {
        "id": "0PYj-7kEjud_"
      }
    },
    {
      "cell_type": "markdown",
      "source": [
        "\n",
        "**The 2 mentioned tables were created and data was inserted to verify the operation of the query.**"
      ],
      "metadata": {
        "id": "7cL7_Os4K6-S"
      }
    },
    {
      "cell_type": "code",
      "source": [
        "# create tables\n",
        "cursor.execute(\n",
        "  'CREATE TABLE game_plays (round_id INTEGER PRIMARY KEY, player_id INTEGER, game_id INTEGER, play_date DATETIME, bet REAL)'\n",
        ")\n",
        "\n",
        "cursor.execute(\n",
        "  'CREATE TABLE players (player_id INTEGER PRIMARY KEY, player_name TEXT, registration_date DATETIME)'\n",
        ")\n",
        "connection.commit()"
      ],
      "metadata": {
        "id": "Pg2j--zBjwR5"
      },
      "execution_count": 16,
      "outputs": []
    },
    {
      "cell_type": "code",
      "source": [
        "# insert values\n",
        "\n",
        "records = [   \n",
        "  (1, 1, 1, '2023-01-10', 100),\n",
        "  (2, 2, 1, '2023-01-12', 200),\n",
        "  (3, 1, 2, '2023-01-11', 150),\n",
        "  (4, 2, 2, '2023-01-13', 100),\n",
        "  (5, 2, 1, '2023-01-03',  50),\n",
        "  (6, 3, 1, '2023-01-15', 300),\n",
        "  (7, 2, 2, '2023-01-24', 500),\n",
        "  (8, 3, 2, '2023-01-20', 250),\n",
        "  (9, 4, 1, '2023-01-03', 320),\n",
        "  (10, 5, 1, '2023-01-15', 160),\n",
        "  (11, 6, 2, '2023-01-24',  80),\n",
        "  (12, 4, 2, '2023-01-20', 410)\n",
        "]\n",
        "\n",
        "cursor.executemany('INSERT INTO game_plays VALUES (?, ?, ?, ?, ?);', records)\n",
        "\n",
        "connection.commit()"
      ],
      "metadata": {
        "id": "UkjoZsUXjwR_"
      },
      "execution_count": 17,
      "outputs": []
    },
    {
      "cell_type": "code",
      "source": [
        "# insert values\n",
        "records = [   \n",
        "  (1, 'Bob', '2023-01-05'),\n",
        "  (2, 'Jon', '2023-01-04'),\n",
        "  (3, 'Bob2', '2023-01-01'),\n",
        "  (4, 'Jon2', '2023-01-02'),\n",
        "  (5, 'Bob3', '2023-01-03',),\n",
        "  (6, 'Jon3', '2023-01-02')\n",
        "]\n",
        "\n",
        "cursor.executemany('INSERT INTO players VALUES (?, ?, ?);', records)\n",
        "\n",
        "connection.commit()"
      ],
      "metadata": {
        "id": "t5LypPkkoX-v"
      },
      "execution_count": 18,
      "outputs": []
    },
    {
      "cell_type": "code",
      "source": [
        "query_result = cursor.execute(\n",
        "  '''\n",
        "    SELECT\n",
        "      *\n",
        "    FROM\n",
        "      game_plays;\n",
        "  '''\n",
        ").fetchall()\n",
        "\n",
        "for row in query_result:\n",
        "\tprint(row)\n",
        " \n",
        "print('==================')\n",
        "query_result = cursor.execute(\n",
        "  '''\n",
        "    SELECT\n",
        "      *\n",
        "    FROM\n",
        "      players;\n",
        "  '''\n",
        ").fetchall()\n",
        "\n",
        "for row in query_result:\n",
        "\tprint(row)\n",
        " \n",
        "connection.commit()"
      ],
      "metadata": {
        "colab": {
          "base_uri": "https://localhost:8080/"
        },
        "id": "Z_ngEJr6pPPw",
        "outputId": "278b08a0-8dee-4891-e18a-b40dd8c2913e"
      },
      "execution_count": 19,
      "outputs": [
        {
          "output_type": "stream",
          "name": "stdout",
          "text": [
            "(1, 1, 1, '2023-01-10', 100.0)\n",
            "(2, 2, 1, '2023-01-12', 200.0)\n",
            "(3, 1, 2, '2023-01-11', 150.0)\n",
            "(4, 2, 2, '2023-01-13', 100.0)\n",
            "(5, 2, 1, '2023-01-03', 50.0)\n",
            "(6, 3, 1, '2023-01-15', 300.0)\n",
            "(7, 2, 2, '2023-01-24', 500.0)\n",
            "(8, 3, 2, '2023-01-20', 250.0)\n",
            "(9, 4, 1, '2023-01-03', 320.0)\n",
            "(10, 5, 1, '2023-01-15', 160.0)\n",
            "(11, 6, 2, '2023-01-24', 80.0)\n",
            "(12, 4, 2, '2023-01-20', 410.0)\n",
            "==================\n",
            "(1, 'Bob', '2023-01-05')\n",
            "(2, 'Jon', '2023-01-04')\n",
            "(3, 'Bob2', '2023-01-01')\n",
            "(4, 'Jon2', '2023-01-02')\n",
            "(5, 'Bob3', '2023-01-03')\n",
            "(6, 'Jon3', '2023-01-02')\n"
          ]
        }
      ]
    },
    {
      "cell_type": "code",
      "source": [
        "query_result = cursor.execute(\n",
        "  '''\n",
        "  SELECT\n",
        "    p.player_name AS player_name,\n",
        "    g.bet AS bet\n",
        "  FROM\n",
        "    game_plays g\n",
        "  JOIN players p ON\n",
        "    g.player_id = p.player_id\n",
        "  WHERE\n",
        "    g.play_date BETWEEN '2023-01-01' AND '2023-01-31'\n",
        "  ORDER BY\n",
        "    g.bet DESC\n",
        "  LIMIT 10;\n",
        "  '''\n",
        ").fetchall()"
      ],
      "metadata": {
        "id": "nVAIufA_puRa"
      },
      "execution_count": 20,
      "outputs": []
    },
    {
      "cell_type": "code",
      "source": [
        "# Final result\n",
        "for row in query_result:\n",
        "\tprint(row)\n",
        " \n",
        "connection.commit()"
      ],
      "metadata": {
        "colab": {
          "base_uri": "https://localhost:8080/"
        },
        "outputId": "d2d9c73a-1965-43fc-af27-6fa5667550f5",
        "id": "-9w0pxmtpuRh"
      },
      "execution_count": 21,
      "outputs": [
        {
          "output_type": "stream",
          "name": "stdout",
          "text": [
            "('Jon', 500.0)\n",
            "('Jon2', 410.0)\n",
            "('Jon2', 320.0)\n",
            "('Bob2', 300.0)\n",
            "('Bob2', 250.0)\n",
            "('Jon', 200.0)\n",
            "('Bob3', 160.0)\n",
            "('Bob', 150.0)\n",
            "('Bob', 100.0)\n",
            "('Jon', 100.0)\n"
          ]
        }
      ]
    },
    {
      "cell_type": "code",
      "source": [
        "cursor.close()\n",
        "connection.close()"
      ],
      "metadata": {
        "id": "SYMwmgB1sQu6"
      },
      "execution_count": 22,
      "outputs": []
    },
    {
      "cell_type": "markdown",
      "source": [
        "##4 (OPTIONAL) \n",
        "Write a Python function that scrapes data about games from the webpage https://clashofslots.com/best-online-slots/ and outputs a CSV file containing the fields:\n",
        "* Software provider (string)\n",
        "* Release Date (date_column)\n",
        "* RTP (float)\n",
        "* Max Win (integer)\n",
        "* Volatility (string)\n",
        "* Features (string)\n",
        "\n",
        "Note: You can use any library you want (e.g. BeautifulSoup, Requests, etc.)."
      ],
      "metadata": {
        "id": "DCzwBo1D_fvD"
      }
    },
    {
      "cell_type": "markdown",
      "source": [
        "> **No need to save game name?**"
      ],
      "metadata": {
        "id": "Ef8b-rCSMS9I"
      }
    },
    {
      "cell_type": "markdown",
      "source": [
        "### Developed functions"
      ],
      "metadata": {
        "id": "fRzkFIB8DrfV"
      }
    },
    {
      "cell_type": "code",
      "source": [
        "import requests\n",
        "from bs4 import BeautifulSoup\n",
        "import re\n",
        "\n",
        "URL = \"https://clashofslots.com/best-online-slots/\"\n",
        "page = requests.get(URL)\n",
        "soup = BeautifulSoup(page.content, \"html.parser\")\n",
        "\n",
        "top_rating_year_list = soup.find_all('div', class_=\"slots_top_rating_year_item slots_top_rating_global_item d-flex\")\n",
        "# print(top_rating_year_list[0].prettify())"
      ],
      "metadata": {
        "id": "jqPt7E19ud8J"
      },
      "execution_count": 23,
      "outputs": []
    },
    {
      "cell_type": "code",
      "source": [
        "# slots_top_rating_year_item_title\n",
        "# print(top_rating_year_list[0].find(class_='slots_top_rating_year_item_title').text.strip())"
      ],
      "metadata": {
        "id": "uEhEs1uVxYaJ"
      },
      "execution_count": 24,
      "outputs": []
    },
    {
      "cell_type": "code",
      "source": [
        "# function to get the providers and release date from the class \"slots_top_rating_year_item_release_soft\"\n",
        "def get_provider_and_date(index):\n",
        "  provider = [re.sub(r\"\\s+\", \" \", x).strip() for x in top_rating_year_list[index].find(class_='slots_top_rating_year_item_release_soft').text.split(',')][1:]\n",
        "  release_date = [re.sub(r\"\\s+\", \" \", x).strip() for x in top_rating_year_list[index].find(class_='slots_top_rating_year_item_release_soft').text.split(',')][0]\n",
        "  # print(provider)\n",
        "  # print(release_date)\n",
        "  return provider, release_date"
      ],
      "metadata": {
        "id": "3DW2cyYlyuL_"
      },
      "execution_count": 25,
      "outputs": []
    },
    {
      "cell_type": "code",
      "source": [
        "# function do get the details (RTP, Maw Wins and Volatility) from the class \"slots_top_rating_year_item_details\"\n",
        "def get_details(index):\n",
        "  details = top_rating_year_list[index].find(class_='slots_top_rating_year_item_details').text.strip().split(',')\n",
        "\n",
        "  rtp = float(details[0].split(':')[1].strip()[:-1])\n",
        "  # print(rtp)\n",
        "  max = int(details[1].split(':')[1].strip()[1:])\n",
        "  # print(max)\n",
        "  volatility = str(details[2].split(':')[1].strip())\n",
        "  # print(volatility)\n",
        "\n",
        "  return rtp, max, volatility"
      ],
      "metadata": {
        "id": "-GtKRKUJ0jQ-"
      },
      "execution_count": 26,
      "outputs": []
    },
    {
      "cell_type": "code",
      "source": [
        "# function do get the features from the class \"slots_top_rating_year_item_features\"\n",
        "def get_features(index):\n",
        "  features = top_rating_year_list[index].find(class_='slots_top_rating_year_item_features').text.strip().split(',')\n",
        "  features[0] = features[0].split(':')[1].strip()\n",
        "  # print(features)\n",
        "  return features"
      ],
      "metadata": {
        "id": "X6J1irq406cS"
      },
      "execution_count": 27,
      "outputs": []
    },
    {
      "cell_type": "code",
      "source": [
        "# dictionary to save the informations\n",
        "result_dict = {}\n",
        "\n",
        "# iterating over the list of games \n",
        "for index, item in enumerate(top_rating_year_list):\n",
        "\n",
        "  # game name\n",
        "  game = str(top_rating_year_list[index].find(class_='slots_top_rating_year_item_title').text.strip())\n",
        "  \n",
        "  provider, release_date = get_provider_and_date(index)\n",
        "  rtp, max, volatility = get_details(index)\n",
        "  features = get_features(index)\n",
        "\n",
        "  result_dict[game] = {\n",
        "    'Software provider': ' / '.join(provider) ,\n",
        "    'Release Date': release_date,\n",
        "    'RTP': rtp,\n",
        "    'Max Win': max,\n",
        "    'Volatility': volatility,\n",
        "    'Features': ' / '.join(features)\n",
        "  }\n",
        "\n",
        "# print(json.dumps(result_dict, indent=2, default=str))"
      ],
      "metadata": {
        "id": "auYFgALvwnZ0"
      },
      "execution_count": 28,
      "outputs": []
    },
    {
      "cell_type": "code",
      "source": [
        "import csv\n",
        "\n",
        "# save the csv file on Colab files\n",
        "with open('result.csv', 'w') as f:\n",
        "  fieldnames = list(result_dict.items())[0][1].keys()\n",
        "  writer = csv.DictWriter(f, fieldnames=fieldnames)\n",
        "  writer.writeheader()\n",
        "  for item in result_dict:\n",
        "    writer.writerow(result_dict[item])"
      ],
      "metadata": {
        "id": "S51LaCzd_M57"
      },
      "execution_count": 29,
      "outputs": []
    },
    {
      "cell_type": "markdown",
      "source": [
        "### Result\n",
        "\n",
        "> **If using Google Colab the csv file is available in the files section on the left.**"
      ],
      "metadata": {
        "id": "cDpK-F-eDXdz"
      }
    }
  ]
}